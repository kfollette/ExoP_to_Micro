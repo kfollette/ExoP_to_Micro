{
 "cells": [
  {
   "cell_type": "markdown",
   "id": "93f22787",
   "metadata": {},
   "source": [
    "# Exoplanets to Microbes Project"
   ]
  },
  {
   "cell_type": "markdown",
   "id": "ce343b37",
   "metadata": {},
   "source": [
    "This notebook accompanies the python package \"ExoToMicro-Functions.py\" by Jess Labossiere."
   ]
  },
  {
   "cell_type": "markdown",
   "id": "bac4f4b8",
   "metadata": {},
   "source": [
    "The goal of this notebook is to provide a method of removing organic material and mineral from microscopic images. The processed images that this code produces have mostly just microbial cells left. "
   ]
  },
  {
   "cell_type": "markdown",
   "id": "096eafb5",
   "metadata": {},
   "source": [
    "There are two sections to this notebook, \"Code Walkthrough\" and \"Quick Save\". The Code Walkthrough section goes in-depth on what the code is doing and how it works. The Quick Save section allows you to run all of the code quickly to recieve the processed images nearly instantly."
   ]
  },
  {
   "cell_type": "markdown",
   "id": "516e2fa3",
   "metadata": {},
   "source": [
    "## Code Walkthrough"
   ]
  },
  {
   "cell_type": "markdown",
   "id": "d4bcbdf1",
   "metadata": {},
   "source": [
    "### 1. Importing packages and libraries"
   ]
  },
  {
   "cell_type": "markdown",
   "id": "c676bf87",
   "metadata": {},
   "source": [
    "The following code imports the necessary python libraries as well as the python package that holds all of the functions that do the analysis."
   ]
  },
  {
   "cell_type": "code",
   "execution_count": 2,
   "id": "f6d4edde",
   "metadata": {},
   "outputs": [
    {
     "name": "stdout",
     "output_type": "stream",
     "text": [
      "C:\\Users\\galax\\Summer Internship 2023\n"
     ]
    }
   ],
   "source": [
    "#Imports the necessary python libraries\n",
    "from PIL import Image, ImageOps, ImageChops\n",
    "import numpy as np, matplotlib.pyplot as plt\n",
    "import os, glob\n",
    "\n",
    "#Imports the functions from the ExoToMicro-Functions.py package\n",
    "from ExoToMicro-Functions import findfiles, imtolist, mineralsub, maskandsave"
   ]
  },
  {
   "cell_type": "markdown",
   "id": "240e5a82",
   "metadata": {},
   "source": [
    "### 2. Current working directory"
   ]
  },
  {
   "cell_type": "markdown",
   "id": "05018a55",
   "metadata": {},
   "source": [
    "This next set of code finds the directory associated with where your notebook file is located within your computer. If you have not already added the images that you want to be analyed within this directory, copy the path that the following cell prints and place the images within that same directory. Make sure that thesse images are not within any folders within the directory. "
   ]
  },
  {
   "cell_type": "code",
   "execution_count": 4,
   "id": "6a852edd",
   "metadata": {},
   "outputs": [
    {
     "name": "stdout",
     "output_type": "stream",
     "text": [
      "current working directory: C:\\Users\\galax\\Summer Internship 2023\n"
     ]
    }
   ],
   "source": [
    "#Gets the current working directory\n",
    "cwd = os.getcwd()\n",
    "print(\"current working directory:\", cwd)"
   ]
  },
  {
   "cell_type": "markdown",
   "id": "96722501",
   "metadata": {},
   "source": [
    "### 3. Finding image files"
   ]
  },
  {
   "cell_type": "markdown",
   "id": "d4bb23da",
   "metadata": {},
   "source": [
    "This next cell calls upon the findfiles function that is located within the python package that was imported in the first cell of code. This function goes through your current working directory and determines if the files located there are images that should be analyzed. This is done by reading the last 4 digits of the name of the images. Only images that end in ch00, ch01, and ch02 will be found. list0, list1, and list2 in the code below are lists that will have the images added to once the function is executed. "
   ]
  },
  {
   "cell_type": "markdown",
   "id": "72e4cb8b",
   "metadata": {},
   "source": [
    "In addition to finding the image files within the current working directory, this function also creates a folder called \"Analyzed Images\" within the current working directory that, once the last cell of code in this notebook is run, will contain all of the analyzed images."
   ]
  },
  {
   "cell_type": "code",
   "execution_count": null,
   "id": "09b800a5",
   "metadata": {},
   "outputs": [],
   "source": [
    "#calling on findfiles function\n",
    "list0, list1, list2 = findfiles()"
   ]
  },
  {
   "cell_type": "markdown",
   "id": "cc04051d",
   "metadata": {},
   "source": [
    "### 4. Turn images into lists"
   ]
  },
  {
   "cell_type": "markdown",
   "id": "35e17685",
   "metadata": {},
   "source": [
    "This next cell of code calls upon the imtolist function which takes the list0, list1, and list2 lists that were created in the last cell and makes new lists containing the properties of the image files."
   ]
  },
  {
   "cell_type": "code",
   "execution_count": null,
   "id": "bc92e30f",
   "metadata": {},
   "outputs": [],
   "source": [
    "#calling on imtolist function\n",
    "imtolist(list0, list1, list2)"
   ]
  },
  {
   "cell_type": "markdown",
   "id": "0eb48046",
   "metadata": {},
   "source": [
    "### 5. Mineral Subtraction"
   ]
  },
  {
   "cell_type": "markdown",
   "id": "edd42357",
   "metadata": {},
   "source": [
    "The following cell calls upon the mineralsub function which determines where the minerals are located within the images and subtracts these signals."
   ]
  },
  {
   "cell_type": "code",
   "execution_count": null,
   "id": "fa3db1cc",
   "metadata": {},
   "outputs": [],
   "source": [
    "#calling on mineralsub function\n",
    "mineralsub(list0, list1, list2)"
   ]
  },
  {
   "cell_type": "markdown",
   "id": "08b6c8b9",
   "metadata": {},
   "source": [
    "### 6. Mask and Save"
   ]
  },
  {
   "cell_type": "markdown",
   "id": "c2655b96",
   "metadata": {},
   "source": [
    "This final cell of code calls upon the maskandsave function which masks the images for subtraction and then saves the images."
   ]
  },
  {
   "cell_type": "code",
   "execution_count": null,
   "id": "bbc8f15f",
   "metadata": {},
   "outputs": [],
   "source": [
    "#calling on maskandsave function\n",
    "maskandsave(list0, list1, list2)"
   ]
  },
  {
   "cell_type": "markdown",
   "id": "7c41c6da",
   "metadata": {},
   "source": [
    "Now that you have run all of the cells of code, open the \"Analyzed Images\" folder within your current working directory to obtain all of the analyzed images. Within this folder you will see three images for each set of images analyzed. These three images will be a ch00/blue only image, a ch02/green only image, and a combined ch00/blue and ch02/green image."
   ]
  },
  {
   "cell_type": "markdown",
   "id": "7ad688f6",
   "metadata": {},
   "source": [
    "## Quick Save"
   ]
  },
  {
   "cell_type": "markdown",
   "id": "4741c78d",
   "metadata": {},
   "source": [
    "This next cell is optional to run. Now that you understand how the code works, this is a cell that you can simply run quickly and repeatedly as you remove and add new images to be analyzed into the current working directory."
   ]
  },
  {
   "cell_type": "code",
   "execution_count": null,
   "id": "e14b751e",
   "metadata": {},
   "outputs": [],
   "source": [
    "#Imports the necessary python libraries\n",
    "from PIL import Image, ImageOps, ImageChops\n",
    "import numpy as np, matplotlib.pyplot as plt\n",
    "import os, glob\n",
    "\n",
    "#Gets the current working directory\n",
    "cwd = os.getcwd()\n",
    "\n",
    "#calling on findfiles function\n",
    "ch00, ch01, ch02 = findfiles()\n",
    "\n",
    "#calling on imtolist function\n",
    "imtolist(ch00, ch01, ch02)\n",
    "\n",
    "#calling on mineralsub function\n",
    "mineralsub(list0, list1, list2)\n",
    "\n",
    "#calling on maskandsave function\n",
    "maskandsave(list0, list1, list2)"
   ]
  }
 ],
 "metadata": {
  "kernelspec": {
   "display_name": "Python 3",
   "language": "python",
   "name": "python3"
  },
  "language_info": {
   "codemirror_mode": {
    "name": "ipython",
    "version": 3
   },
   "file_extension": ".py",
   "mimetype": "text/x-python",
   "name": "python",
   "nbconvert_exporter": "python",
   "pygments_lexer": "ipython3",
   "version": "3.8.8"
  }
 },
 "nbformat": 4,
 "nbformat_minor": 5
}
