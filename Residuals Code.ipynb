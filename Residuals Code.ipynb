{
 "cells": [
  {
   "cell_type": "code",
   "execution_count": null,
   "id": "72fbf15e",
   "metadata": {},
   "outputs": [],
   "source": [
    "im1 = Image.open(r'.tif')\n",
    "im2 = Image.open(r'.tif')\n",
    "img1 = np.asarray(im1)\n",
    "img2 = np.asarray(im2)\n",
    "\n",
    "x = 1\n",
    "number = 0.3\n",
    "resids = []\n",
    "resavg = []\n",
    "xvals = []\n",
    "\n",
    "while True:\n",
    "    imresid = img2 - x*img1\n",
    "    imageresid = np.asarray(imresid)\n",
    "    \n",
    "    for i in range(len(imageresid)):\n",
    "        for j in range(len(imageresid[0])):\n",
    "            pixels = imageresid[i][j]\n",
    "            resids.append(pixels**2)\n",
    "\n",
    "    xvals.append(x)\n",
    "    resavg.append(np.mean(resids)) \n",
    "    print(\"X:\", x)\n",
    "    if len(resavg) < 2:\n",
    "        x += number\n",
    "        continue\n",
    "        \n",
    "    if resavg[-1] < resavg[-2]:\n",
    "        x += number\n",
    "    else:\n",
    "        number = -number*0.75\n",
    "        x += number\n",
    "    \n",
    "    print(\"Number:\", number)\n",
    "    print(\"Residuals:\", resavg[-1])\n",
    "    if abs(resavg[-1] - resavg[-2]) < 10:\n",
    "        break\n",
    "        \n",
    "print(\"x = \", xvals)"
   ]
  }
 ],
 "metadata": {
  "kernelspec": {
   "display_name": "Python 3",
   "language": "python",
   "name": "python3"
  },
  "language_info": {
   "codemirror_mode": {
    "name": "ipython",
    "version": 3
   },
   "file_extension": ".py",
   "mimetype": "text/x-python",
   "name": "python",
   "nbconvert_exporter": "python",
   "pygments_lexer": "ipython3",
   "version": "3.8.8"
  }
 },
 "nbformat": 4,
 "nbformat_minor": 5
}
